{
 "cells": [
  {
   "cell_type": "markdown",
   "metadata": {},
   "source": [
    "# Pre-process"
   ]
  },
  {
   "cell_type": "markdown",
   "metadata": {},
   "source": [
    "### Import libs"
   ]
  },
  {
   "cell_type": "code",
   "execution_count": 2,
   "metadata": {},
   "outputs": [
    {
     "data": {
      "text/plain": [
       "'3.10.11 (tags/v3.10.11:7d4cc5a, Apr  5 2023, 00:38:17) [MSC v.1929 64 bit (AMD64)]'"
      ]
     },
     "execution_count": 2,
     "metadata": {},
     "output_type": "execute_result"
    }
   ],
   "source": [
    "import pandas as pd\n",
    "import numpy as np\n",
    "import matplotlib.pyplot as plt\n",
    "import seaborn as sns\n",
    "import sys\n",
    "\n",
    "sys.version"
   ]
  },
  {
   "cell_type": "markdown",
   "metadata": {},
   "source": [
    "### Load sources"
   ]
  },
  {
   "cell_type": "code",
   "execution_count": 3,
   "metadata": {},
   "outputs": [
    {
     "name": "stdout",
     "output_type": "stream",
     "text": [
      "Data loaded ...\n"
     ]
    }
   ],
   "source": [
    "data_dict = {}\n",
    "years = [2020, 2021, 2022, 2023]\n",
    "base = './data/'\n",
    "\n",
    "def get_df(_year):\n",
    "    diff_year = 2022\n",
    "    # Avoid inconsitences in headers\n",
    "    date_field = 'Fecha' if year == diff_year else 'fecha'\n",
    "    \n",
    "    df = pd.read_csv(f'{base}/linea144-{year}.csv', parse_dates=[date_field])\n",
    "    if year == diff_year:\n",
    "        df = df.rename(columns={'Fecha': 'fecha'})\n",
    "\n",
    "    return df\n",
    "\n",
    "\n",
    "for year in years:    \n",
    "    # Read file\n",
    "    data_dict[year] = get_df(year)\n",
    "            \n",
    "# Concat dataframes\n",
    "data = pd.concat(data_dict, ignore_index=True)\n",
    "\n",
    "# Excluding last column with no data\n",
    "data = data.iloc[:,:-1]\n",
    "\n",
    "assert data.shape == (84861, 19), display(data.sample(10), data.shape)\n",
    "assert data.fecha.dtype == 'datetime64[ns]', \"'fecha' must be a datetime64 type\"\n",
    "\n",
    "print('Data loaded ...')"
   ]
  },
  {
   "cell_type": "markdown",
   "metadata": {},
   "source": [
    "### Filling missing values (categorical) \n",
    "\n",
    "**Summary from the article**\n",
    "\n",
    "So the first step is to see if your data has missing values. If your data has missing values, you need to check the distribution of each numerical variable (with missing values). If the values in the numerical variables are missing, use the Mean value if the variable is in a normal distribution. Otherwise, choose Median. And if the variable is categorical or discrete, you can select mode. So you need to choose a different measure for each variable. I hope you liked this article on how to fill in missing values in your data. Feel free to ask valuable questions in the comments section below. [More...](https://thecleverprogrammer.com/2023/03/14/heres-how-to-fill-in-missing-values-in-a-dataset/)"
   ]
  },
  {
   "cell_type": "code",
   "execution_count": 4,
   "metadata": {},
   "outputs": [],
   "source": [
    "# Filling nan rows with mode\n",
    "def fill_with_mode_the_nan_values(field):\n",
    "    try:\n",
    "      # n records NaN to theis field \n",
    "      fields_nan = data[field].isna().sum()\n",
    "            \n",
    "      if fields_nan > 0:\n",
    "          # filling using the mode, like shown in link above\n",
    "          field_mode = data[field].mode()[0]\n",
    "\n",
    "          data[field].fillna(field_mode, inplace=True)\n",
    "      return field, fields_nan\n",
    "    except Exception as e:\n",
    "       return e\n",
    "       \n",
    "fields = ['prov_residencia_persona_en_situacion_violencia', 'genero_persona_en_situacion_de_violencia', \\\n",
    "          'pais_nacimiento_persona_en_situacion_de_violencia', 'vinculo_con_la_persona_agresora', \\\n",
    "            'genero_de_la_persona_agresora']\n",
    "\n",
    "[fill_with_mode_the_nan_values(field) for field in fields]\n",
    "\n",
    "assert data.fecha.dtype == 'datetime64[ns]', \"'fecha' must be a datetime64 type\"\n",
    "\n"
   ]
  },
  {
   "cell_type": "markdown",
   "metadata": {},
   "source": [
    "### Filling numeric values (edad_persona_en_situacion_de_violencia) using the median\n",
    "* **Mean**, when we have a normal distribution\n",
    "* **Median**, otherwise"
   ]
  },
  {
   "cell_type": "code",
   "execution_count": 5,
   "metadata": {},
   "outputs": [
    {
     "name": "stdout",
     "output_type": "stream",
     "text": [
      "Kurtosis: 1.315091416195283\n",
      "There are/was 16402 missing values to field \"edad_persona_en_situacion_de_violencia\"\n"
     ]
    },
    {
     "data": {
      "image/png": "[encoded data removed]",
      "text/plain": [
       "<Figure size 720x576 with 1 Axes>"
      ]
     },
     "metadata": {
      "needs_background": "light"
     },
     "output_type": "display_data"
    }
   ],
   "source": [
    "# Histogram: distribution ins't normal\n",
    "\n",
    "# Calculate kurtosis\n",
    "print(f'Kurtosis: {data.edad_persona_en_situacion_de_violencia.kurtosis()}')\n",
    "\n",
    "# Count of missing values\n",
    "print(f'There are/was {data.edad_persona_en_situacion_de_violencia.isna().sum()} missing values to field \"edad_persona_en_situacion_de_violencia\"')\n",
    "\n",
    "plt.figure(figsize=(10, 8))\n",
    "f = sns.histplot(data['edad_persona_en_situacion_de_violencia'], bins=10, kde=True)\n",
    "f.set_title('Histogram: age of victims of domestic violence.')\n",
    "f.set_xlabel(\"Age of victims\")\n",
    "f.set_ylabel(\"Number of victims\")\n",
    "plt.show()\n",
    "\n",
    "# Calculate the median\n",
    "age_median = data.edad_persona_en_situacion_de_violencia.median()\n",
    "\n",
    "# Filling data with the mean\n",
    "data.edad_persona_en_situacion_de_violencia.fillna(age_median, inplace=True)\n",
    "\n",
    "assert data.fecha.dtype == 'datetime64[ns]', f\"'fecha' must be a datetime64 type, but is {data.fecha.dtype}\""
   ]
  },
  {
   "cell_type": "markdown",
   "metadata": {},
   "source": [
    "### Updating types and modalities whose values are boolean"
   ]
  },
  {
   "cell_type": "code",
   "execution_count": 6,
   "metadata": {},
   "outputs": [
    {
     "name": "stdout",
     "output_type": "stream",
     "text": [
      "Types for field 'tipo_de_violencia_fisica': ['Si' 'No']\n",
      "Types for field 'tipo_de_violencia_psicologica': ['Si' 'No']\n",
      "Types for field 'tipo_de_violencia_sexual': ['No' 'Si' 'SI']\n",
      "Types for field 'tipo_de_violencia_economica_y_patrimonial': ['No' 'Si']\n",
      "Types for field 'tipo_de_violencia_simbolica': ['No' 'Si' 'SI']\n",
      "Types for field 'tipo_de_violencia_domestica': ['Si' 'No']\n",
      "Types for field 'modalidad_de_violencia_institucional': ['No' 'Si' 'SI']\n",
      "Types for field 'modalidad_de_violencia_laboral': ['No' 'Si' 'SI']\n",
      "Types for field 'modalidad_violencia_contra_libertad_reproductiva': ['No' 'Si' 'SI']\n",
      "Types for field 'modalidad_de_violencia_obstetrica': ['No' 'Si' 'SI']\n",
      "Types for field 'modalidad_de_violencia_mediatica': ['No' 'Si']\n",
      "Types for field 'modalidad_de_violencia_otras': ['No' 'Si']\n"
     ]
    }
   ],
   "source": [
    "# 1. Define wich fields will be processed \n",
    "boolean_fields = ['tipo_de_violencia_fisica', 'tipo_de_violencia_psicologica', 'tipo_de_violencia_sexual', \\\n",
    "                    'tipo_de_violencia_economica_y_patrimonial', 'tipo_de_violencia_simbolica', 'tipo_de_violencia_domestica',\n",
    "                    'modalidad_de_violencia_institucional', 'modalidad_de_violencia_laboral', \\\n",
    "                    'modalidad_violencia_contra_libertad_reproductiva', 'modalidad_de_violencia_obstetrica', \\\n",
    "                    'modalidad_de_violencia_mediatica', 'modalidad_de_violencia_otras']\n",
    "\n",
    "\n",
    "# 2. View and confirmation that they are boolean\n",
    "def fields_view_validation(field):\n",
    "    print(f\"Types for field '{field}': {data[field].unique()}\")\n",
    "\n",
    "# 3. Show\n",
    "[fields_view_validation(field) for field in boolean_fields]\n",
    "\n",
    "# 4. Cast to boolean \n",
    "mapping = {'Si': True, 'SI': True, 'No': False, 'NO': False} \n",
    "for field in boolean_fields:\n",
    "    data[field] = data[field].map(mapping)\n",
    "\n",
    "# 5. Unify \"duplicate\" province\n",
    "data['prov_residencia_persona_en_situacion_violencia'] = data['prov_residencia_persona_en_situacion_violencia'] \\\n",
    "    .apply(lambda x : 'Santiago Del Estero' if x == 'Santiago del Estero' else x)\n",
    "\n",
    "data['prov_residencia_persona_en_situacion_violencia'] = data['prov_residencia_persona_en_situacion_violencia'] \\\n",
    "    .apply(lambda x : 'Córdoba' if x == 'Cordoba' else x)"
   ]
  },
  {
   "cell_type": "markdown",
   "metadata": {},
   "source": [
    "### Saving to parquet"
   ]
  },
  {
   "cell_type": "code",
   "execution_count": 7,
   "metadata": {},
   "outputs": [],
   "source": [
    "data.to_parquet('./data/linea_144_processed.parquet')"
   ]
  }
 ],
 "metadata": {
  "kernelspec": {
   "display_name": "Python 3",
   "language": "python",
   "name": "python3"
  },
  "language_info": {
   "codemirror_mode": {
    "name": "ipython",
    "version": 3
   },
   "file_extension": ".py",
   "mimetype": "text/x-python",
   "name": "python",
   "nbconvert_exporter": "python",
   "pygments_lexer": "ipython3",
   "version": "3.10.11"
  },
  "orig_nbformat": 4
 },
 "nbformat": 4,
 "nbformat_minor": 2
}
