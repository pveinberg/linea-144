{
 "cells": [
  {
   "cell_type": "markdown",
   "metadata": {},
   "source": [
    "## Classifying with  _sklearn.linear_model.LinearRegression_\n",
    "\n",
    "Using linear regression to predict most prone ages to sofer violence from line 144 data source"
   ]
  },
  {
   "cell_type": "markdown",
   "metadata": {},
   "source": [
    "### Imports"
   ]
  },
  {
   "cell_type": "code",
   "execution_count": 2,
   "metadata": {},
   "outputs": [],
   "source": [
    "import pandas as pd\n",
    "import numpy as np\n",
    "from sklearn.preprocessing import LabelEncoder\n",
    "from sklearn.model_selection import train_test_split\n",
    "from sklearn.linear_model import LinearRegression\n",
    "from sklearn.metrics import accuracy_score, balanced_accuracy_score, top_k_accuracy_score"
   ]
  },
  {
   "cell_type": "markdown",
   "metadata": {},
   "source": [
    "### Load from datasource\n",
    "\n",
    "**Please, execute 01_pre_process.ipynb before**"
   ]
  },
  {
   "cell_type": "code",
   "execution_count": 3,
   "metadata": {},
   "outputs": [],
   "source": [
    "data = pd.read_parquet('./data/linea_144_processed.parquet')\n",
    "\n",
    "assert data.shape == (84861, 19)\n",
    "assert data.fecha.dtype == 'datetime64[ns]', \"'fecha' must be a datetime64 type\""
   ]
  },
  {
   "cell_type": "markdown",
   "metadata": {},
   "source": [
    "### Labeled data"
   ]
  },
  {
   "cell_type": "code",
   "execution_count": 4,
   "metadata": {},
   "outputs": [],
   "source": [
    "fields_to_encode = data.columns.drop(['fecha', 'edad_persona_en_situacion_de_violencia'])\n",
    "\n",
    "for field in fields_to_encode:\n",
    "    le = LabelEncoder()\n",
    "    le.fit(data[field])\n",
    "    data[field] = le.transform(data[field])"
   ]
  },
  {
   "cell_type": "markdown",
   "metadata": {},
   "source": [
    "### Training model"
   ]
  },
  {
   "cell_type": "code",
   "execution_count": 34,
   "metadata": {},
   "outputs": [
    {
     "data": {
      "text/plain": [
       "[('tipo_de_violencia_fisica', 0.14205),\n",
       " ('tipo_de_violencia_psicologica', 0.02581),\n",
       " ('tipo_de_violencia_sexual', 0.02557),\n",
       " ('tipo_de_violencia_economica_y_patrimonial', 0.1556),\n",
       " ('tipo_de_violencia_simbolica', 0.16379),\n",
       " ('tipo_de_violencia_domestica', 0.04961),\n",
       " ('modalidad_de_violencia_institucional', 0.02522),\n",
       " ('modalidad_de_violencia_laboral', 0.02516),\n",
       " ('modalidad_violencia_contra_libertad_reproductiva', 0.02533),\n",
       " ('modalidad_de_violencia_obstetrica', 0.02522),\n",
       " ('modalidad_de_violencia_mediatica', 0.02516),\n",
       " ('modalidad_de_violencia_otras', 0.03099)]"
      ]
     },
     "execution_count": 34,
     "metadata": {},
     "output_type": "execute_result"
    }
   ],
   "source": [
    "# Features available/candidates \n",
    "\n",
    "\"\"\"\n",
    "['fecha', 'prov_residencia_persona_en_situacion_violencia',\n",
    "'genero_persona_en_situacion_de_violencia',\n",
    "'edad_persona_en_situacion_de_violencia',\n",
    "'pais_nacimiento_persona_en_situacion_de_violencia',\n",
    "'tipo_de_violencia_fisica', 'tipo_de_violencia_psicologica',\n",
    "'tipo_de_violencia_sexual', 'tipo_de_violencia_economica_y_patrimonial',\n",
    "'tipo_de_violencia_simbolica', 'tipo_de_violencia_domestica',\n",
    "'modalidad_de_violencia_institucional',\n",
    "'modalidad_de_violencia_laboral',\n",
    "'modalidad_violencia_contra_libertad_reproductiva',\n",
    "'modalidad_de_violencia_obstetrica', 'modalidad_de_violencia_mediatica',\n",
    "'modalidad_de_violencia_otras', 'vinculo_con_la_persona_agresora',\n",
    "'genero_de_la_persona_agresora']\n",
    "\"\"\"\n",
    "\n",
    "features = ['tipo_de_violencia_fisica', 'tipo_de_violencia_psicologica', 'tipo_de_violencia_sexual', \n",
    "            'tipo_de_violencia_economica_y_patrimonial', 'tipo_de_violencia_simbolica', \n",
    "            'tipo_de_violencia_domestica', 'modalidad_de_violencia_institucional', \n",
    "            'modalidad_de_violencia_laboral', 'modalidad_violencia_contra_libertad_reproductiva', \n",
    "            'modalidad_de_violencia_obstetrica', 'modalidad_de_violencia_mediatica', 'modalidad_de_violencia_otras']\n",
    "\n",
    "def get_linear_regression_to(_feature):\n",
    "    \n",
    "    # feature: type of violence\n",
    "    X = np.array(data[_feature].values).reshape(-1,1)\n",
    "\n",
    "    # Target: age\n",
    "    y = data['edad_persona_en_situacion_de_violencia'].values\n",
    "\n",
    "    # Test\n",
    "    assert len(y) == len(X), \"fatures and target must be equals\"\n",
    "\n",
    "    \"\"\"\n",
    "    EXPLANATION OF VARIABLES\n",
    "    ===================\n",
    "\n",
    "    X_train = features to train/fit the model\n",
    "    y_train = targets to train/fit the model\n",
    "    The two vars above are used to train/fit the model, usually fit(X_train, y_train)\n",
    "    ---- ---- ---- ---- \n",
    "    X_test = features to test the model\n",
    "    y_test = targets to test the model\n",
    "    The two vars above are used to test the accuracy, usually running a prediction function: predict(X_text) \n",
    "    and comparing the accuracy with y_test\n",
    "    \"\"\"\n",
    "\n",
    "    X_train, X_test, y_train, y_test = train_test_split(X, y, train_size=0.8, random_state=1)\n",
    "\n",
    "    # Processing arrays to integer\n",
    "    X_train, X_test, y_train, y_test = [np.array(_arr).astype(int) for _arr in [X_train, X_test, y_train, y_test]]\n",
    "\n",
    "    # Running model\n",
    "    linear_regression = LinearRegression()\n",
    "    linear_regression.fit(X_train, y_train)\n",
    "\n",
    "    # Get predictions\n",
    "    predicted = linear_regression.predict(X_test)\n",
    "    \n",
    "    # running accuracy_score: Classification metrics can't handle a mix of continuous and multiclass targets\n",
    "    # https://scikit-learn.org/stable/modules/model_evaluation.html\n",
    "    # accuracy = accuracy_score(predicted, y_test)\n",
    "    # accuracy = balanced_accuracy_score(y_test, predicted), same problem\n",
    "    # accuracy = top_k_accuracy_score(y_train, predicted) \n",
    "\n",
    "    predicted = np.array(predicted).astype(int)\n",
    "    accuracy = accuracy_score(y_test, predicted)\n",
    "\n",
    "    return (_feature, round(accuracy,5))\n",
    "\n",
    "[get_linear_regression_to(feature) for feature in features]\n"
   ]
  }
 ],
 "metadata": {
  "kernelspec": {
   "display_name": "Python 3",
   "language": "python",
   "name": "python3"
  },
  "language_info": {
   "codemirror_mode": {
    "name": "ipython",
    "version": 3
   },
   "file_extension": ".py",
   "mimetype": "text/x-python",
   "name": "python",
   "nbconvert_exporter": "python",
   "pygments_lexer": "ipython3",
   "version": "3.10.11"
  },
  "orig_nbformat": 4
 },
 "nbformat": 4,
 "nbformat_minor": 2
}
