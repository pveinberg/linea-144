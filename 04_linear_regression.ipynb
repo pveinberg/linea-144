{
 "cells": [
  {
   "cell_type": "markdown",
   "metadata": {},
   "source": [
    "## Classifying with  _sklearn.neighbors.KNeighborsClassifier_\n",
    "\n",
    "Using knn to predict some targets from line 144 datasource"
   ]
  },
  {
   "cell_type": "markdown",
   "metadata": {},
   "source": [
    "### Imports"
   ]
  },
  {
   "cell_type": "code",
   "execution_count": 1,
   "metadata": {},
   "outputs": [],
   "source": [
    "import pandas as pd\n",
    "from sklearn.preprocessing import LabelEncoder\n",
    "from sklearn.model_selection import train_test_split\n",
    "from sklearn.linear_model import LinearRegression\n",
    "from sklearn.metrics import accuracy_score"
   ]
  },
  {
   "cell_type": "markdown",
   "metadata": {},
   "source": [
    "### Loading data\n",
    "\n",
    "Getting data from 4 years"
   ]
  },
  {
   "cell_type": "code",
   "execution_count": 2,
   "metadata": {},
   "outputs": [],
   "source": [
    "years = [2020, 2021, 2022, 2023]\n",
    "data_dict = {}\n",
    "\n",
    "for year in years:\n",
    "    data_dict[year] = pd.read_csv(f'./data/linea144-{year}.csv', parse_dates=['fecha'])\n",
    "\n",
    "data = pd.concat(data_dict, ignore_index=True)\n",
    "\n",
    "# Excluding last column with no data\n",
    "data = data.iloc[:,:-1]\n",
    "\n",
    "assert data.shape == (84861, 19)\n",
    "assert data.fecha.dtype == 'datetime64[ns]', \"'fecha' must be a datetime64 type\""
   ]
  },
  {
   "cell_type": "markdown",
   "metadata": {},
   "source": [
    "### Cleanning data\n",
    "\n",
    "* Filling NaN values\n",
    "* Joining multiple labels to standars"
   ]
  },
  {
   "cell_type": "code",
   "execution_count": 3,
   "metadata": {},
   "outputs": [
    {
     "name": "stdout",
     "output_type": "stream",
     "text": [
      "Processing records NaN to prov_residencia_persona_en_situacion_violencia: 1229\n",
      "Processing records NaN to genero_persona_en_situacion_de_violencia: 1776\n",
      "Processing records NaN to pais_nacimiento_persona_en_situacion_de_violencia: 28706\n",
      "Processing records NaN to vinculo_con_la_persona_agresora: 3192\n",
      "Processing records NaN to genero_de_la_persona_agresora: 8737\n"
     ]
    },
    {
     "data": {
      "text/plain": [
       "[None, None, None, None, None]"
      ]
     },
     "execution_count": 3,
     "metadata": {},
     "output_type": "execute_result"
    }
   ],
   "source": [
    "# Filling nan rows with mode\n",
    "def fill_with_mode_the_nan_values(field):\n",
    "\n",
    "    # n records NaN to theis field \n",
    "    fields_nan = data[field].isna().sum()\n",
    "    print(f'Processing records NaN to {field}: {fields_nan}')\n",
    "    \n",
    "    if fields_nan > 0:\n",
    "        # filling using the mode, like shown in link above\n",
    "        field_mode = data[field].mode()[0]\n",
    "\n",
    "        data[field].fillna(field_mode, inplace=True)\n",
    "\n",
    "fields = ['prov_residencia_persona_en_situacion_violencia', 'genero_persona_en_situacion_de_violencia', \\\n",
    "          'pais_nacimiento_persona_en_situacion_de_violencia', 'vinculo_con_la_persona_agresora', \\\n",
    "            'genero_de_la_persona_agresora']\n",
    "\n",
    "[fill_with_mode_the_nan_values(field) for field in fields]"
   ]
  },
  {
   "cell_type": "code",
   "execution_count": 4,
   "metadata": {},
   "outputs": [],
   "source": [
    "# Calculate the median\n",
    "age_median = data.edad_persona_en_situacion_de_violencia.median()\n",
    "\n",
    "# Filling data with the mean\n",
    "data.fillna(age_median, inplace=True)"
   ]
  },
  {
   "cell_type": "code",
   "execution_count": 5,
   "metadata": {},
   "outputs": [],
   "source": [
    "boolean_fields = ['tipo_de_violencia_fisica', 'tipo_de_violencia_psicologica', 'tipo_de_violencia_sexual', \\\n",
    "                    'tipo_de_violencia_economica_y_patrimonial', 'tipo_de_violencia_simbolica', 'tipo_de_violencia_domestica',\n",
    "                    'modalidad_de_violencia_institucional', 'modalidad_de_violencia_laboral', \\\n",
    "                    'modalidad_violencia_contra_libertad_reproductiva', 'modalidad_de_violencia_obstetrica', \\\n",
    "                    'modalidad_de_violencia_mediatica', 'modalidad_de_violencia_otras']\n",
    "\n",
    "sim = 'Si'\n",
    "nao = 'No'\n",
    "mapping = {'Si': sim, 'SI': sim, 'No': nao, 'NO': nao}\n",
    "\n",
    "for field in boolean_fields:\n",
    "    data[field] = data[field].map(mapping)\n"
   ]
  },
  {
   "cell_type": "markdown",
   "metadata": {},
   "source": [
    "### Labeled data"
   ]
  },
  {
   "cell_type": "code",
   "execution_count": 6,
   "metadata": {},
   "outputs": [],
   "source": [
    "fields_to_encode = data.columns.drop(['fecha', 'edad_persona_en_situacion_de_violencia'])\n",
    "\n",
    "for field in fields_to_encode:\n",
    "    le = LabelEncoder()\n",
    "    le.fit(data[field])\n",
    "    data[field] = le.transform(data[field])"
   ]
  },
  {
   "cell_type": "markdown",
   "metadata": {},
   "source": [
    "### Classifying ..."
   ]
  },
  {
   "cell_type": "code",
   "execution_count": 19,
   "metadata": {},
   "outputs": [],
   "source": [
    "def linear_regression(_target):\n",
    "    y = data[_target]\n",
    "    X = data.drop(['fecha', 'edad_persona_en_situacion_de_violencia', _target], axis=1)\n",
    "    X_train, X_test, y_train, y_test = train_test_split(X, y, train_size=0.8, random_state=1)\n",
    "\n",
    "    print(X.info())\n",
    "    \n",
    "\n",
    "    # linear_regression = LinearRegression()\n",
    "    # linear_regression.fit(X_train, y_train)\n",
    "\n",
    "    # predicted = linear_regression.predict(X_test)\n",
    "    # accuracy = accuracy_score(predicted, y_test)\n",
    "\n",
    "    # print(\"Accuracy from {} is {}\".format(_target, accuracy))\n"
   ]
  },
  {
   "cell_type": "code",
   "execution_count": 20,
   "metadata": {},
   "outputs": [
    {
     "name": "stdout",
     "output_type": "stream",
     "text": [
      "<class 'pandas.core.frame.DataFrame'>\n",
      "RangeIndex: 84861 entries, 0 to 84860\n",
      "Data columns (total 16 columns):\n",
      " #   Column                                             Non-Null Count  Dtype\n",
      "---  ------                                             --------------  -----\n",
      " 0   genero_persona_en_situacion_de_violencia           84861 non-null  int32\n",
      " 1   pais_nacimiento_persona_en_situacion_de_violencia  84861 non-null  int32\n",
      " 2   tipo_de_violencia_fisica                           84861 non-null  int32\n",
      " 3   tipo_de_violencia_psicologica                      84861 non-null  int32\n",
      " 4   tipo_de_violencia_sexual                           84861 non-null  int32\n",
      " 5   tipo_de_violencia_economica_y_patrimonial          84861 non-null  int32\n",
      " 6   tipo_de_violencia_simbolica                        84861 non-null  int32\n",
      " 7   tipo_de_violencia_domestica                        84861 non-null  int32\n",
      " 8   modalidad_de_violencia_institucional               84861 non-null  int32\n",
      " 9   modalidad_de_violencia_laboral                     84861 non-null  int32\n",
      " 10  modalidad_violencia_contra_libertad_reproductiva   84861 non-null  int32\n",
      " 11  modalidad_de_violencia_obstetrica                  84861 non-null  int32\n",
      " 12  modalidad_de_violencia_mediatica                   84861 non-null  int32\n",
      " 13  modalidad_de_violencia_otras                       84861 non-null  int32\n",
      " 14  vinculo_con_la_persona_agresora                    84861 non-null  int32\n",
      " 15  genero_de_la_persona_agresora                      84861 non-null  int32\n",
      "dtypes: int32(16)\n",
      "memory usage: 5.2 MB\n",
      "None\n"
     ]
    }
   ],
   "source": [
    "fields = data.columns.drop(\"fecha\", 'edad_persona_en_situacion_de_violencia')\n",
    "for target in fields:\n",
    "    linear_regression(target)\n",
    "    break"
   ]
  },
  {
   "cell_type": "code",
   "execution_count": 15,
   "metadata": {},
   "outputs": [
    {
     "name": "stdout",
     "output_type": "stream",
     "text": [
      "<class 'pandas.core.frame.DataFrame'>\n",
      "RangeIndex: 84861 entries, 0 to 84860\n",
      "Data columns (total 19 columns):\n",
      " #   Column                                             Non-Null Count  Dtype         \n",
      "---  ------                                             --------------  -----         \n",
      " 0   fecha                                              84861 non-null  datetime64[ns]\n",
      " 1   prov_residencia_persona_en_situacion_violencia     84861 non-null  int32         \n",
      " 2   genero_persona_en_situacion_de_violencia           84861 non-null  int32         \n",
      " 3   edad_persona_en_situacion_de_violencia             84861 non-null  float64       \n",
      " 4   pais_nacimiento_persona_en_situacion_de_violencia  84861 non-null  int32         \n",
      " 5   tipo_de_violencia_fisica                           84861 non-null  int32         \n",
      " 6   tipo_de_violencia_psicologica                      84861 non-null  int32         \n",
      " 7   tipo_de_violencia_sexual                           84861 non-null  int32         \n",
      " 8   tipo_de_violencia_economica_y_patrimonial          84861 non-null  int32         \n",
      " 9   tipo_de_violencia_simbolica                        84861 non-null  int32         \n",
      " 10  tipo_de_violencia_domestica                        84861 non-null  int32         \n",
      " 11  modalidad_de_violencia_institucional               84861 non-null  int32         \n",
      " 12  modalidad_de_violencia_laboral                     84861 non-null  int32         \n",
      " 13  modalidad_violencia_contra_libertad_reproductiva   84861 non-null  int32         \n",
      " 14  modalidad_de_violencia_obstetrica                  84861 non-null  int32         \n",
      " 15  modalidad_de_violencia_mediatica                   84861 non-null  int32         \n",
      " 16  modalidad_de_violencia_otras                       84861 non-null  int32         \n",
      " 17  vinculo_con_la_persona_agresora                    84861 non-null  int32         \n",
      " 18  genero_de_la_persona_agresora                      84861 non-null  int32         \n",
      "dtypes: datetime64[ns](1), float64(1), int32(17)\n",
      "memory usage: 6.8 MB\n"
     ]
    }
   ],
   "source": [
    "data.info()"
   ]
  }
 ],
 "metadata": {
  "kernelspec": {
   "display_name": "Python 3",
   "language": "python",
   "name": "python3"
  },
  "language_info": {
   "codemirror_mode": {
    "name": "ipython",
    "version": 3
   },
   "file_extension": ".py",
   "mimetype": "text/x-python",
   "name": "python",
   "nbconvert_exporter": "python",
   "pygments_lexer": "ipython3",
   "version": "3.10.11"
  },
  "orig_nbformat": 4
 },
 "nbformat": 4,
 "nbformat_minor": 2
}
