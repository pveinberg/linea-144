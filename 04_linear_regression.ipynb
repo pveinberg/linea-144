{
 "cells": [
  {
   "cell_type": "markdown",
   "metadata": {},
   "source": [
    "## Classifying with  _sklearn.neighbors.KNeighborsClassifier_\n",
    "\n",
    "Using knn to predict some targets from line 144 datasource"
   ]
  },
  {
   "cell_type": "markdown",
   "metadata": {},
   "source": [
    "### Imports"
   ]
  },
  {
   "cell_type": "code",
   "execution_count": 10,
   "metadata": {},
   "outputs": [],
   "source": [
    "import pandas as pd\n",
    "from sklearn.preprocessing import LabelEncoder\n",
    "from sklearn.model_selection import train_test_split\n",
    "from sklearn.linear_model import LinearRegression\n",
    "from sklearn.metrics import accuracy_score"
   ]
  },
  {
   "cell_type": "markdown",
   "metadata": {},
   "source": [
    "### Load from datasource\n",
    "\n",
    "**Please, execute 01_pre_process.ipynb before**"
   ]
  },
  {
   "cell_type": "code",
   "execution_count": 11,
   "metadata": {},
   "outputs": [],
   "source": [
    "data = pd.read_parquet('./data/linea_144_processed.parquet')\n",
    "\n",
    "assert data.shape == (84861, 19)\n",
    "assert data.fecha.dtype == 'datetime64[ns]', \"'fecha' must be a datetime64 type\""
   ]
  },
  {
   "cell_type": "markdown",
   "metadata": {},
   "source": [
    "### Labeled data"
   ]
  },
  {
   "cell_type": "code",
   "execution_count": 12,
   "metadata": {},
   "outputs": [],
   "source": [
    "fields_to_encode = data.columns.drop(['fecha', 'edad_persona_en_situacion_de_violencia'])\n",
    "\n",
    "for field in fields_to_encode:\n",
    "    le = LabelEncoder()\n",
    "    le.fit(data[field])\n",
    "    data[field] = le.transform(data[field])"
   ]
  },
  {
   "cell_type": "markdown",
   "metadata": {},
   "source": [
    "### Classifying ..."
   ]
  },
  {
   "cell_type": "code",
   "execution_count": 13,
   "metadata": {},
   "outputs": [],
   "source": [
    "def linear_regression(_target):\n",
    "    y = data[_target]\n",
    "    X = data.drop(['fecha', 'edad_persona_en_situacion_de_violencia', _target], axis=1)\n",
    "    X_train, X_test, y_train, y_test = train_test_split(X, y, train_size=0.8, random_state=1)\n",
    "\n",
    "    print(X.info())\n",
    "    \n",
    "\n",
    "    # linear_regression = LinearRegression()\n",
    "    # linear_regression.fit(X_train, y_train)\n",
    "\n",
    "    # predicted = linear_regression.predict(X_test)\n",
    "    # accuracy = accuracy_score(predicted, y_test)\n",
    "\n",
    "    # print(\"Accuracy from {} is {}\".format(_target, accuracy))\n"
   ]
  },
  {
   "cell_type": "code",
   "execution_count": 14,
   "metadata": {},
   "outputs": [
    {
     "name": "stdout",
     "output_type": "stream",
     "text": [
      "<class 'pandas.core.frame.DataFrame'>\n",
      "RangeIndex: 84861 entries, 0 to 84860\n",
      "Data columns (total 16 columns):\n",
      " #   Column                                             Non-Null Count  Dtype\n",
      "---  ------                                             --------------  -----\n",
      " 0   genero_persona_en_situacion_de_violencia           84861 non-null  int32\n",
      " 1   pais_nacimiento_persona_en_situacion_de_violencia  84861 non-null  int32\n",
      " 2   tipo_de_violencia_fisica                           84861 non-null  int64\n",
      " 3   tipo_de_violencia_psicologica                      84861 non-null  int64\n",
      " 4   tipo_de_violencia_sexual                           84861 non-null  int64\n",
      " 5   tipo_de_violencia_economica_y_patrimonial          84861 non-null  int64\n",
      " 6   tipo_de_violencia_simbolica                        84861 non-null  int64\n",
      " 7   tipo_de_violencia_domestica                        84861 non-null  int64\n",
      " 8   modalidad_de_violencia_institucional               84861 non-null  int64\n",
      " 9   modalidad_de_violencia_laboral                     84861 non-null  int64\n",
      " 10  modalidad_violencia_contra_libertad_reproductiva   84861 non-null  int64\n",
      " 11  modalidad_de_violencia_obstetrica                  84861 non-null  int64\n",
      " 12  modalidad_de_violencia_mediatica                   84861 non-null  int64\n",
      " 13  modalidad_de_violencia_otras                       84861 non-null  int64\n",
      " 14  vinculo_con_la_persona_agresora                    84861 non-null  int32\n",
      " 15  genero_de_la_persona_agresora                      84861 non-null  int32\n",
      "dtypes: int32(4), int64(12)\n",
      "memory usage: 9.1 MB\n",
      "None\n"
     ]
    }
   ],
   "source": [
    "fields = data.columns.drop(\"fecha\", 'edad_persona_en_situacion_de_violencia')\n",
    "for target in fields:\n",
    "    linear_regression(target)\n",
    "    break"
   ]
  },
  {
   "cell_type": "code",
   "execution_count": 15,
   "metadata": {},
   "outputs": [
    {
     "name": "stdout",
     "output_type": "stream",
     "text": [
      "<class 'pandas.core.frame.DataFrame'>\n",
      "RangeIndex: 84861 entries, 0 to 84860\n",
      "Data columns (total 19 columns):\n",
      " #   Column                                             Non-Null Count  Dtype         \n",
      "---  ------                                             --------------  -----         \n",
      " 0   fecha                                              84861 non-null  datetime64[ns]\n",
      " 1   prov_residencia_persona_en_situacion_violencia     84861 non-null  int32         \n",
      " 2   genero_persona_en_situacion_de_violencia           84861 non-null  int32         \n",
      " 3   edad_persona_en_situacion_de_violencia             84861 non-null  float64       \n",
      " 4   pais_nacimiento_persona_en_situacion_de_violencia  84861 non-null  int32         \n",
      " 5   tipo_de_violencia_fisica                           84861 non-null  int64         \n",
      " 6   tipo_de_violencia_psicologica                      84861 non-null  int64         \n",
      " 7   tipo_de_violencia_sexual                           84861 non-null  int64         \n",
      " 8   tipo_de_violencia_economica_y_patrimonial          84861 non-null  int64         \n",
      " 9   tipo_de_violencia_simbolica                        84861 non-null  int64         \n",
      " 10  tipo_de_violencia_domestica                        84861 non-null  int64         \n",
      " 11  modalidad_de_violencia_institucional               84861 non-null  int64         \n",
      " 12  modalidad_de_violencia_laboral                     84861 non-null  int64         \n",
      " 13  modalidad_violencia_contra_libertad_reproductiva   84861 non-null  int64         \n",
      " 14  modalidad_de_violencia_obstetrica                  84861 non-null  int64         \n",
      " 15  modalidad_de_violencia_mediatica                   84861 non-null  int64         \n",
      " 16  modalidad_de_violencia_otras                       84861 non-null  int64         \n",
      " 17  vinculo_con_la_persona_agresora                    84861 non-null  int32         \n",
      " 18  genero_de_la_persona_agresora                      84861 non-null  int32         \n",
      "dtypes: datetime64[ns](1), float64(1), int32(5), int64(12)\n",
      "memory usage: 10.7 MB\n"
     ]
    }
   ],
   "source": [
    "data.info()"
   ]
  }
 ],
 "metadata": {
  "kernelspec": {
   "display_name": "Python 3",
   "language": "python",
   "name": "python3"
  },
  "language_info": {
   "codemirror_mode": {
    "name": "ipython",
    "version": 3
   },
   "file_extension": ".py",
   "mimetype": "text/x-python",
   "name": "python",
   "nbconvert_exporter": "python",
   "pygments_lexer": "ipython3",
   "version": "3.10.11"
  },
  "orig_nbformat": 4
 },
 "nbformat": 4,
 "nbformat_minor": 2
}
