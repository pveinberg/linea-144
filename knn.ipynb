{
 "cells": [
  {
   "cell_type": "markdown",
   "metadata": {},
   "source": [
    "## Classifying with  _sklearn.neighbors.KNeighborsClassifier_\n",
    "\n",
    "Using knn to predict some targets from line 144 datasource"
   ]
  },
  {
   "cell_type": "markdown",
   "metadata": {},
   "source": [
    "### Imports"
   ]
  },
  {
   "cell_type": "code",
   "execution_count": 62,
   "metadata": {},
   "outputs": [],
   "source": [
    "import pandas as pd\n",
    "from sklearn.preprocessing import LabelEncoder\n",
    "from sklearn.model_selection import train_test_split\n",
    "from sklearn.neighbors import KNeighborsClassifier\n",
    "from sklearn.metrics import accuracy_score"
   ]
  },
  {
   "cell_type": "markdown",
   "metadata": {},
   "source": [
    "### Loading data\n",
    "\n",
    "Getting data from 4 years"
   ]
  },
  {
   "cell_type": "code",
   "execution_count": 63,
   "metadata": {},
   "outputs": [],
   "source": [
    "years = [2020, 2021, 2022, 2023]\n",
    "data_dict = {}\n",
    "\n",
    "for year in years:\n",
    "    data_dict[year] = pd.read_csv(f'./data/linea144-{year}.csv', parse_dates=['fecha'])\n",
    "\n",
    "data = pd.concat(data_dict, ignore_index=True)\n",
    "\n",
    "# Excluding last column with no data\n",
    "data = data.iloc[:,:-1]\n",
    "\n",
    "assert data.shape == (84861, 19)\n",
    "assert data.fecha.dtype == 'datetime64[ns]', \"'fecha' must be a datetime64 type\""
   ]
  },
  {
   "cell_type": "markdown",
   "metadata": {},
   "source": [
    "### Cleanning data\n",
    "\n",
    "* Filling NaN values\n",
    "* Joining multiple labels to standars"
   ]
  },
  {
   "cell_type": "code",
   "execution_count": 64,
   "metadata": {},
   "outputs": [
    {
     "name": "stdout",
     "output_type": "stream",
     "text": [
      "Processing records NaN to prov_residencia_persona_en_situacion_violencia: 1229\n",
      "Processing records NaN to genero_persona_en_situacion_de_violencia: 1776\n",
      "Processing records NaN to pais_nacimiento_persona_en_situacion_de_violencia: 28706\n",
      "Processing records NaN to vinculo_con_la_persona_agresora: 3192\n",
      "Processing records NaN to genero_de_la_persona_agresora: 8737\n"
     ]
    },
    {
     "data": {
      "text/plain": [
       "[None, None, None, None, None]"
      ]
     },
     "execution_count": 64,
     "metadata": {},
     "output_type": "execute_result"
    }
   ],
   "source": [
    "# Filling nan rows with mode\n",
    "def fill_with_mode_the_nan_values(field):\n",
    "\n",
    "    # n records NaN to theis field \n",
    "    fields_nan = data[field].isna().sum()\n",
    "    print(f'Processing records NaN to {field}: {fields_nan}')\n",
    "    \n",
    "    if fields_nan > 0:\n",
    "        # filling using the mode, like shown in link above\n",
    "        field_mode = data[field].mode()[0]\n",
    "\n",
    "        data[field].fillna(field_mode, inplace=True)\n",
    "\n",
    "fields = ['prov_residencia_persona_en_situacion_violencia', 'genero_persona_en_situacion_de_violencia', \\\n",
    "          'pais_nacimiento_persona_en_situacion_de_violencia', 'vinculo_con_la_persona_agresora', \\\n",
    "            'genero_de_la_persona_agresora']\n",
    "\n",
    "[fill_with_mode_the_nan_values(field) for field in fields]"
   ]
  },
  {
   "cell_type": "code",
   "execution_count": 65,
   "metadata": {},
   "outputs": [],
   "source": [
    "# Calculate the median\n",
    "age_median = data.edad_persona_en_situacion_de_violencia.median()\n",
    "\n",
    "# Filling data with the mean\n",
    "data.fillna(age_median, inplace=True)"
   ]
  },
  {
   "cell_type": "code",
   "execution_count": 66,
   "metadata": {},
   "outputs": [],
   "source": [
    "boolean_fields = ['tipo_de_violencia_fisica', 'tipo_de_violencia_psicologica', 'tipo_de_violencia_sexual', \\\n",
    "                    'tipo_de_violencia_economica_y_patrimonial', 'tipo_de_violencia_simbolica', 'tipo_de_violencia_domestica',\n",
    "                    'modalidad_de_violencia_institucional', 'modalidad_de_violencia_laboral', \\\n",
    "                    'modalidad_violencia_contra_libertad_reproductiva', 'modalidad_de_violencia_obstetrica', \\\n",
    "                    'modalidad_de_violencia_mediatica', 'modalidad_de_violencia_otras']\n",
    "\n",
    "sim = 'Si'\n",
    "nao = 'No'\n",
    "mapping = {'Si': sim, 'SI': sim, 'No': nao, 'NO': nao}\n",
    "\n",
    "for field in boolean_fields:\n",
    "    data[field] = data[field].map(mapping)\n"
   ]
  },
  {
   "cell_type": "markdown",
   "metadata": {},
   "source": [
    "### Labeled data"
   ]
  },
  {
   "cell_type": "code",
   "execution_count": 67,
   "metadata": {},
   "outputs": [],
   "source": [
    "fields_to_encode = data.columns.drop(['fecha', 'edad_persona_en_situacion_de_violencia'])\n",
    "\n",
    "for field in fields_to_encode:\n",
    "    le = LabelEncoder()\n",
    "    le.fit(data[field])\n",
    "    data[field] = le.transform(data[field])"
   ]
  },
  {
   "cell_type": "markdown",
   "metadata": {},
   "source": [
    "### Classifying ..."
   ]
  },
  {
   "cell_type": "code",
   "execution_count": 68,
   "metadata": {},
   "outputs": [],
   "source": [
    "def knn(_target):\n",
    "    y = data[_target]\n",
    "    X = data.drop(['fecha', _target], axis=1)\n",
    "    X_train, X_test, y_train, y_test = train_test_split(X, y, train_size=0.8, random_state=1)\n",
    "\n",
    "    knn = KNeighborsClassifier()\n",
    "    knn.fit(X_train, y_train)\n",
    "\n",
    "    predicted = knn.predict(X_test)\n",
    "    accuracy = accuracy_score(predicted, y_test)\n",
    "\n",
    "    print(\"Accuracy from {} is {}\".format(_target, accuracy))\n"
   ]
  },
  {
   "cell_type": "code",
   "execution_count": 72,
   "metadata": {},
   "outputs": [
    {
     "name": "stdout",
     "output_type": "stream",
     "text": [
      "Accuracy from prov_residencia_persona_en_situacion_violencia is 0.5426265244800565\n",
      "Accuracy from genero_persona_en_situacion_de_violencia is 0.9919283568019797\n",
      "Accuracy from edad_persona_en_situacion_de_violencia is 0.09114475932363166\n",
      "Accuracy from pais_nacimiento_persona_en_situacion_de_violencia is 0.9280032993578036\n",
      "Accuracy from tipo_de_violencia_fisica is 0.6575148765686679\n",
      "Accuracy from tipo_de_violencia_psicologica is 0.9507453013609851\n",
      "Accuracy from tipo_de_violencia_sexual is 0.8672008484062923\n",
      "Accuracy from tipo_de_violencia_economica_y_patrimonial is 0.5998350321098215\n",
      "Accuracy from tipo_de_violencia_simbolica is 0.6358922995345548\n",
      "Accuracy from tipo_de_violencia_domestica is 0.9358392741412832\n",
      "Accuracy from modalidad_de_violencia_institucional is 0.9865669003711778\n",
      "Accuracy from modalidad_de_violencia_laboral is 0.9863901490602722\n",
      "Accuracy from modalidad_violencia_contra_libertad_reproductiva is 0.9948742119837389\n",
      "Accuracy from modalidad_de_violencia_obstetrica is 0.9993519118600129\n",
      "Accuracy from modalidad_de_violencia_mediatica is 0.9995286631709185\n",
      "Accuracy from modalidad_de_violencia_otras is 0.9857420609202852\n",
      "Accuracy from vinculo_con_la_persona_agresora is 0.5179402580569139\n",
      "Accuracy from genero_de_la_persona_agresora is 0.9847993872621222\n"
     ]
    }
   ],
   "source": [
    "fields = data.columns.drop(\"fecha\")\n",
    "for target in fields:\n",
    "    knn(target)"
   ]
  }
 ],
 "metadata": {
  "kernelspec": {
   "display_name": "Python 3",
   "language": "python",
   "name": "python3"
  },
  "language_info": {
   "codemirror_mode": {
    "name": "ipython",
    "version": 3
   },
   "file_extension": ".py",
   "mimetype": "text/x-python",
   "name": "python",
   "nbconvert_exporter": "python",
   "pygments_lexer": "ipython3",
   "version": "3.10.11"
  },
  "orig_nbformat": 4
 },
 "nbformat": 4,
 "nbformat_minor": 2
}
